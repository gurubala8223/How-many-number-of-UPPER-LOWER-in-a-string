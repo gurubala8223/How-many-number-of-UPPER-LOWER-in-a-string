{
 "cells": [
  {
   "cell_type": "code",
   "execution_count": null,
   "id": "072ca9d2",
   "metadata": {},
   "outputs": [],
   "source": [
    "a=input()\n",
    "upper=0\n",
    "lower=0\n",
    "g=0\n",
    "for i in a:\n",
    "    if 65<=ord(i)<=90:\n",
    "        upper=upper+1\n",
    "    elif 97<=ord(i)<=122:\n",
    "        lower+=1\n",
    "    else:\n",
    "        g+=1\n",
    "     \n",
    "    \n",
    "print(upper,lower,g)        \n",
    "        "
   ]
  },
  {
   "cell_type": "code",
   "execution_count": null,
   "id": "0ea69b42",
   "metadata": {},
   "outputs": [],
   "source": []
  }
 ],
 "metadata": {
  "kernelspec": {
   "display_name": "Python 3",
   "language": "python",
   "name": "python3"
  },
  "language_info": {
   "codemirror_mode": {
    "name": "ipython",
    "version": 3
   },
   "file_extension": ".py",
   "mimetype": "text/x-python",
   "name": "python",
   "nbconvert_exporter": "python",
   "pygments_lexer": "ipython3",
   "version": "3.8.8"
  }
 },
 "nbformat": 4,
 "nbformat_minor": 5
}
